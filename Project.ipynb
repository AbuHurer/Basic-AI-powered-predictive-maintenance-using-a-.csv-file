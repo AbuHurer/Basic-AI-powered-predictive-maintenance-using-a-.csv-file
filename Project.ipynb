{
 "cells": [
  {
   "cell_type": "code",
   "execution_count": 1,
   "id": "c93d16c6-b644-46ba-9b0d-bd949e0acd38",
   "metadata": {},
   "outputs": [],
   "source": [
    "import pandas as pd\n",
    "import numpy as np\n",
    "import matplotlib.pyplot as plt\n",
    "import seaborn as sns\n",
    "from sklearn.model_selection import train_test_split\n",
    "from sklearn.preprocessing import StandardScaler\n",
    "from statsmodels.tsa.holtwinters import ExponentialSmoothing\n",
    "from sklearn.metrics import mean_absolute_error"
   ]
  },
  {
   "cell_type": "code",
   "execution_count": 3,
   "id": "bcd0e61d-b179-4565-b3f6-6e5bff675503",
   "metadata": {},
   "outputs": [],
   "source": [
    "file_path = \"C:\\\\Users\\\\saeem\\\\Desktop\\\\project_2\\\\predictive_maintenance_dataset.csv\"\n",
    "df = pd.read_csv(file_path)"
   ]
  },
  {
   "cell_type": "code",
   "execution_count": 5,
   "id": "091bdd32-c3c7-4c8d-8d3e-119a87658ba8",
   "metadata": {},
   "outputs": [],
   "source": [
    "df['date'] = pd.to_datetime(df['date'])"
   ]
  },
  {
   "cell_type": "code",
   "execution_count": 7,
   "id": "3adcac26-f04f-404c-8578-ee6bd01f88de",
   "metadata": {},
   "outputs": [],
   "source": [
    "df = df.sort_values(by=['device', 'date'])"
   ]
  },
  {
   "cell_type": "code",
   "execution_count": null,
   "id": "7b883b37-8e4c-4e69-b0d1-e2f18ee066ee",
   "metadata": {},
   "outputs": [],
   "source": [
    "time_series = df.groupby('date')['failure'].sum()"
   ]
  },
  {
   "cell_type": "code",
   "execution_count": null,
   "id": "6aab1c63-7e4b-45f7-9ede-47ecc413b564",
   "metadata": {},
   "outputs": [],
   "source": [
    "plt.figure(figsize=(12,6))\n",
    "plt.plot(time_series, label='Failures over time', color='blue')\n",
    "plt.xlabel('Date')\n",
    "plt.ylabel('Number of Failures')\n",
    "plt.title('Failures Over Time')\n",
    "plt.legend()\n",
    "plt.show()"
   ]
  }
 ],
 "metadata": {
  "kernelspec": {
   "display_name": "Python 3 (ipykernel)",
   "language": "python",
   "name": "python3"
  },
  "language_info": {
   "codemirror_mode": {
    "name": "ipython",
    "version": 3
   },
   "file_extension": ".py",
   "mimetype": "text/x-python",
   "name": "python",
   "nbconvert_exporter": "python",
   "pygments_lexer": "ipython3",
   "version": "3.12.4"
  }
 },
 "nbformat": 4,
 "nbformat_minor": 5
}
